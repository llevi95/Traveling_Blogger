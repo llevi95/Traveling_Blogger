{
 "cells": [
  {
   "cell_type": "code",
   "execution_count": 2,
   "id": "6183b8a4",
   "metadata": {},
   "outputs": [],
   "source": [
    "import pandas as pd\n",
    "import numpy as np"
   ]
  },
  {
   "cell_type": "code",
   "execution_count": 3,
   "id": "95b4a1d7",
   "metadata": {},
   "outputs": [],
   "source": [
    "df = pd.read_csv('dilans_data.csv', sep=';')"
   ]
  },
  {
   "cell_type": "code",
   "execution_count": 4,
   "id": "65b3d93a",
   "metadata": {},
   "outputs": [
    {
     "data": {
      "text/html": [
       "<div>\n",
       "<style scoped>\n",
       "    .dataframe tbody tr th:only-of-type {\n",
       "        vertical-align: middle;\n",
       "    }\n",
       "\n",
       "    .dataframe tbody tr th {\n",
       "        vertical-align: top;\n",
       "    }\n",
       "\n",
       "    .dataframe thead th {\n",
       "        text-align: right;\n",
       "    }\n",
       "</style>\n",
       "<table border=\"1\" class=\"dataframe\">\n",
       "  <thead>\n",
       "    <tr style=\"text-align: right;\">\n",
       "      <th></th>\n",
       "      <th>time</th>\n",
       "      <th>type</th>\n",
       "      <th>country</th>\n",
       "      <th>id</th>\n",
       "      <th>platform</th>\n",
       "      <th>continent</th>\n",
       "    </tr>\n",
       "  </thead>\n",
       "  <tbody>\n",
       "    <tr>\n",
       "      <th>0</th>\n",
       "      <td>2018-01-01 00:01:01</td>\n",
       "      <td>read</td>\n",
       "      <td>country_7</td>\n",
       "      <td>2.458151e+09</td>\n",
       "      <td>SEO</td>\n",
       "      <td>North America</td>\n",
       "    </tr>\n",
       "    <tr>\n",
       "      <th>1</th>\n",
       "      <td>2018-01-01 00:03:20</td>\n",
       "      <td>read</td>\n",
       "      <td>country_7</td>\n",
       "      <td>2.458151e+09</td>\n",
       "      <td>SEO</td>\n",
       "      <td>South America</td>\n",
       "    </tr>\n",
       "    <tr>\n",
       "      <th>2</th>\n",
       "      <td>2018-01-01 00:04:01</td>\n",
       "      <td>read</td>\n",
       "      <td>country_7</td>\n",
       "      <td>2.458151e+09</td>\n",
       "      <td>AdWords</td>\n",
       "      <td>Africa</td>\n",
       "    </tr>\n",
       "    <tr>\n",
       "      <th>3</th>\n",
       "      <td>2018-01-01 00:04:02</td>\n",
       "      <td>read</td>\n",
       "      <td>country_7</td>\n",
       "      <td>2.458151e+09</td>\n",
       "      <td>AdWords</td>\n",
       "      <td>Europe</td>\n",
       "    </tr>\n",
       "    <tr>\n",
       "      <th>4</th>\n",
       "      <td>2018-01-01 00:05:03</td>\n",
       "      <td>read</td>\n",
       "      <td>country_8</td>\n",
       "      <td>2.458151e+09</td>\n",
       "      <td>Reddit</td>\n",
       "      <td>North America</td>\n",
       "    </tr>\n",
       "  </tbody>\n",
       "</table>\n",
       "</div>"
      ],
      "text/plain": [
       "                  time  type    country            id platform      continent\n",
       "0  2018-01-01 00:01:01  read  country_7  2.458151e+09      SEO  North America\n",
       "1  2018-01-01 00:03:20  read  country_7  2.458151e+09      SEO  South America\n",
       "2  2018-01-01 00:04:01  read  country_7  2.458151e+09  AdWords         Africa\n",
       "3  2018-01-01 00:04:02  read  country_7  2.458151e+09  AdWords         Europe\n",
       "4  2018-01-01 00:05:03  read  country_8  2.458151e+09   Reddit  North America"
      ]
     },
     "execution_count": 4,
     "metadata": {},
     "output_type": "execute_result"
    }
   ],
   "source": [
    "df.head()"
   ]
  },
  {
   "cell_type": "code",
   "execution_count": 5,
   "id": "688bfe10",
   "metadata": {},
   "outputs": [
    {
     "data": {
      "text/html": [
       "<div>\n",
       "<style scoped>\n",
       "    .dataframe tbody tr th:only-of-type {\n",
       "        vertical-align: middle;\n",
       "    }\n",
       "\n",
       "    .dataframe tbody tr th {\n",
       "        vertical-align: top;\n",
       "    }\n",
       "\n",
       "    .dataframe thead th {\n",
       "        text-align: right;\n",
       "    }\n",
       "</style>\n",
       "<table border=\"1\" class=\"dataframe\">\n",
       "  <thead>\n",
       "    <tr style=\"text-align: right;\">\n",
       "      <th></th>\n",
       "      <th>time</th>\n",
       "      <th>type</th>\n",
       "      <th>country</th>\n",
       "      <th>id</th>\n",
       "      <th>platform</th>\n",
       "      <th>continent</th>\n",
       "      <th>country_id</th>\n",
       "    </tr>\n",
       "  </thead>\n",
       "  <tbody>\n",
       "    <tr>\n",
       "      <th>0</th>\n",
       "      <td>2018-01-01 00:01:01</td>\n",
       "      <td>read</td>\n",
       "      <td>country</td>\n",
       "      <td>2.458151e+09</td>\n",
       "      <td>SEO</td>\n",
       "      <td>North America</td>\n",
       "      <td>7</td>\n",
       "    </tr>\n",
       "    <tr>\n",
       "      <th>1</th>\n",
       "      <td>2018-01-01 00:03:20</td>\n",
       "      <td>read</td>\n",
       "      <td>country</td>\n",
       "      <td>2.458151e+09</td>\n",
       "      <td>SEO</td>\n",
       "      <td>South America</td>\n",
       "      <td>7</td>\n",
       "    </tr>\n",
       "    <tr>\n",
       "      <th>2</th>\n",
       "      <td>2018-01-01 00:04:01</td>\n",
       "      <td>read</td>\n",
       "      <td>country</td>\n",
       "      <td>2.458151e+09</td>\n",
       "      <td>AdWords</td>\n",
       "      <td>Africa</td>\n",
       "      <td>7</td>\n",
       "    </tr>\n",
       "    <tr>\n",
       "      <th>3</th>\n",
       "      <td>2018-01-01 00:04:02</td>\n",
       "      <td>read</td>\n",
       "      <td>country</td>\n",
       "      <td>2.458151e+09</td>\n",
       "      <td>AdWords</td>\n",
       "      <td>Europe</td>\n",
       "      <td>7</td>\n",
       "    </tr>\n",
       "    <tr>\n",
       "      <th>4</th>\n",
       "      <td>2018-01-01 00:05:03</td>\n",
       "      <td>read</td>\n",
       "      <td>country</td>\n",
       "      <td>2.458151e+09</td>\n",
       "      <td>Reddit</td>\n",
       "      <td>North America</td>\n",
       "      <td>8</td>\n",
       "    </tr>\n",
       "  </tbody>\n",
       "</table>\n",
       "</div>"
      ],
      "text/plain": [
       "                  time  type  country            id platform      continent  \\\n",
       "0  2018-01-01 00:01:01  read  country  2.458151e+09      SEO  North America   \n",
       "1  2018-01-01 00:03:20  read  country  2.458151e+09      SEO  South America   \n",
       "2  2018-01-01 00:04:01  read  country  2.458151e+09  AdWords         Africa   \n",
       "3  2018-01-01 00:04:02  read  country  2.458151e+09  AdWords         Europe   \n",
       "4  2018-01-01 00:05:03  read  country  2.458151e+09   Reddit  North America   \n",
       "\n",
       "  country_id  \n",
       "0          7  \n",
       "1          7  \n",
       "2          7  \n",
       "3          7  \n",
       "4          8  "
      ]
     },
     "execution_count": 5,
     "metadata": {},
     "output_type": "execute_result"
    }
   ],
   "source": [
    "df[['country', 'country_id']] = df['country'].str.split('_', 1, expand=True)\n",
    "df.head()"
   ]
  },
  {
   "cell_type": "code",
   "execution_count": 1,
   "id": "f2ecd52a",
   "metadata": {},
   "outputs": [
    {
     "ename": "NameError",
     "evalue": "name 'df' is not defined",
     "output_type": "error",
     "traceback": [
      "\u001b[0;31m---------------------------------------------------------------------------\u001b[0m",
      "\u001b[0;31mNameError\u001b[0m                                 Traceback (most recent call last)",
      "\u001b[0;32m<ipython-input-1-822073992539>\u001b[0m in \u001b[0;36m<module>\u001b[0;34m\u001b[0m\n\u001b[0;32m----> 1\u001b[0;31m \u001b[0mdf\u001b[0m\u001b[0;34m[\u001b[0m\u001b[0;34m[\u001b[0m\u001b[0;34m'year'\u001b[0m\u001b[0;34m,\u001b[0m \u001b[0;34m'month'\u001b[0m\u001b[0;34m,\u001b[0m \u001b[0;34m'day'\u001b[0m\u001b[0;34m]\u001b[0m\u001b[0;34m]\u001b[0m \u001b[0;34m=\u001b[0m \u001b[0mdf\u001b[0m\u001b[0;34m[\u001b[0m\u001b[0;34m'time'\u001b[0m\u001b[0;34m]\u001b[0m\u001b[0;34m.\u001b[0m\u001b[0mstr\u001b[0m\u001b[0;34m.\u001b[0m\u001b[0msplit\u001b[0m\u001b[0;34m(\u001b[0m\u001b[0mexpand\u001b[0m\u001b[0;34m=\u001b[0m\u001b[0;32mTrue\u001b[0m\u001b[0;34m)\u001b[0m\u001b[0;34m\u001b[0m\u001b[0;34m\u001b[0m\u001b[0m\n\u001b[0m",
      "\u001b[0;31mNameError\u001b[0m: name 'df' is not defined"
     ]
    }
   ],
   "source": [
    "df[['year', 'month', 'day']] = df['time'].str.split(expand=True)"
   ]
  },
  {
   "cell_type": "code",
   "execution_count": null,
   "id": "f96bc0fa",
   "metadata": {},
   "outputs": [],
   "source": [
    "df.drop('country', axis=1, inplace=True)\n",
    "df.head(40)"
   ]
  },
  {
   "cell_type": "code",
   "execution_count": null,
   "id": "5c1c69c5",
   "metadata": {},
   "outputs": [],
   "source": [
    "df['country_id'] = pd.to_numeric(df['country_id'])\n",
    "df['country_id'] = df['country_id'].astype(\"Int64\")\n",
    "df.dtypes"
   ]
  },
  {
   "cell_type": "code",
   "execution_count": null,
   "id": "003ca72b",
   "metadata": {},
   "outputs": [],
   "source": [
    "df.head(50)"
   ]
  },
  {
   "cell_type": "code",
   "execution_count": null,
   "id": "0e49874b",
   "metadata": {},
   "outputs": [],
   "source": []
  }
 ],
 "metadata": {
  "kernelspec": {
   "display_name": "Python 3",
   "language": "python",
   "name": "python3"
  },
  "language_info": {
   "codemirror_mode": {
    "name": "ipython",
    "version": 3
   },
   "file_extension": ".py",
   "mimetype": "text/x-python",
   "name": "python",
   "nbconvert_exporter": "python",
   "pygments_lexer": "ipython3",
   "version": "3.6.9"
  }
 },
 "nbformat": 4,
 "nbformat_minor": 5
}
